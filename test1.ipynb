{
  "nbformat": 4,
  "nbformat_minor": 0,
  "metadata": {
    "colab": {
      "provenance": [],
      "gpuType": "V28",
      "authorship_tag": "ABX9TyPA0AbdTmfeKfFrm2Pwc/2h",
      "include_colab_link": true
    },
    "kernelspec": {
      "name": "python3",
      "display_name": "Python 3"
    },
    "language_info": {
      "name": "python"
    },
    "accelerator": "TPU"
  },
  "cells": [
    {
      "cell_type": "markdown",
      "metadata": {
        "id": "view-in-github",
        "colab_type": "text"
      },
      "source": [
        "<a href=\"https://colab.research.google.com/github/Ashkan-sm/test-torch/blob/main/test1.ipynb\" target=\"_parent\"><img src=\"https://colab.research.google.com/assets/colab-badge.svg\" alt=\"Open In Colab\"/></a>"
      ]
    },
    {
      "cell_type": "code",
      "execution_count": 13,
      "metadata": {
        "id": "ybrbpp3ev3pt"
      },
      "outputs": [],
      "source": [
        "import torch\n",
        "import torch.nn as nn\n",
        "import torch.nn.functional as F"
      ]
    },
    {
      "cell_type": "code",
      "source": [
        "import numpy"
      ],
      "metadata": {
        "id": "Ml_KNiQJyued"
      },
      "execution_count": 14,
      "outputs": []
    },
    {
      "cell_type": "code",
      "source": [
        "class Model(nn.Module):\n",
        "  def __init__(self,in_features=4,h1=8,h2=8,out_features=3):\n",
        "    super().__init__()\n",
        "    self.fc1=nn.Linear(in_features,h1)\n",
        "    self.fc2=nn.Linear(h1,h2)\n",
        "    self.out=nn.Linear(h2,out_features)\n",
        "\n",
        "  def forward(self,x):\n",
        "    x=F.relu(self.fc1(x))\n",
        "    x=F.relu(self.fc2(x))\n",
        "    x=self.out(x)\n",
        "    return x\n",
        "\n"
      ],
      "metadata": {
        "id": "2uXAW6Xrywle"
      },
      "execution_count": 16,
      "outputs": []
    },
    {
      "cell_type": "code",
      "source": [
        "torch.manual_seed(1)\n"
      ],
      "metadata": {
        "colab": {
          "base_uri": "https://localhost:8080/"
        },
        "id": "1ybPojRLy_er",
        "outputId": "5e2980c9-b997-49d3-e74c-6463abf5c623"
      },
      "execution_count": 17,
      "outputs": [
        {
          "output_type": "execute_result",
          "data": {
            "text/plain": [
              "<torch._C.Generator at 0x7ddb8946a570>"
            ]
          },
          "metadata": {},
          "execution_count": 17
        }
      ]
    },
    {
      "cell_type": "code",
      "source": [
        "# prompt: create a simple game in a class it has 100 by 100 world\n",
        "# a pixel is our player and can move in 4 direction in each step\n",
        "\n",
        "import random\n",
        "\n",
        "class Game:\n",
        "    def __init__(self, width=100, height=100):\n",
        "        self.width = width\n",
        "        self.height = height\n",
        "        self.player_x = random.randint(0, width - 1)\n",
        "        self.player_y = random.randint(0, height - 1)\n",
        "\n",
        "    def move_player(self, direction):\n",
        "        if direction == 3:\n",
        "            self.player_y = max(0, self.player_y - 1)\n",
        "        elif direction == 1:\n",
        "            self.player_y = min(self.height - 1, self.player_y + 1)\n",
        "        elif direction == 2:\n",
        "            self.player_x = max(0, self.player_x - 1)\n",
        "        elif direction == 0:\n",
        "            self.player_x = min(self.width - 1, self.player_x + 1)\n",
        "\n",
        "    def get_player_position(self):\n",
        "        return self.player_x, self.player_y\n",
        "\n",
        "\n"
      ],
      "metadata": {
        "id": "dpTtRfAa9D-o"
      },
      "execution_count": null,
      "outputs": []
    },
    {
      "cell_type": "code",
      "source": [
        "def reward(x,y):\n",
        "  if ()\n",
        ""
      ],
      "metadata": {
        "id": "1_jEHs009ECg"
      },
      "execution_count": null,
      "outputs": []
    }
  ]
}